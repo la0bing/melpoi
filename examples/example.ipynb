{
 "cells": [
  {
   "cell_type": "code",
   "execution_count": 2,
   "metadata": {},
   "outputs": [
    {
     "data": {
      "text/plain": [
       "<module 'melpoi.sql.SQLAnalyzer.SQLAnalyzer' from '/Users/melvin/mambaforge/envs/melpoi/lib/python3.8/site-packages/melpoi/sql/SQLAnalyzer/SQLAnalyzer.py'>"
      ]
     },
     "execution_count": 2,
     "metadata": {},
     "output_type": "execute_result"
    }
   ],
   "source": [
    "SQLAnalyzer.SQLAnalyzer"
   ]
  },
  {
   "cell_type": "code",
   "execution_count": 1,
   "metadata": {},
   "outputs": [
    {
     "ename": "TypeError",
     "evalue": "'module' object is not callable",
     "output_type": "error",
     "traceback": [
      "\u001b[0;31m---------------------------------------------------------------------------\u001b[0m",
      "\u001b[0;31mTypeError\u001b[0m                                 Traceback (most recent call last)",
      "Cell \u001b[0;32mIn [1], line 3\u001b[0m\n\u001b[1;32m      1\u001b[0m \u001b[39mfrom\u001b[39;00m \u001b[39mmelpoi\u001b[39;00m\u001b[39m.\u001b[39;00m\u001b[39msql\u001b[39;00m\u001b[39m.\u001b[39;00m\u001b[39mSQLAnalyzer\u001b[39;00m \u001b[39mimport\u001b[39;00m SQLAnalyzer\n\u001b[0;32m----> 3\u001b[0m sa \u001b[39m=\u001b[39m SQLAnalyzer(\u001b[39m\"\u001b[39;49m\u001b[39m./\u001b[39;49m\u001b[39m\"\u001b[39;49m)\n\u001b[1;32m      4\u001b[0m sa\u001b[39m.\u001b[39mplot_inline()\n",
      "\u001b[0;31mTypeError\u001b[0m: 'module' object is not callable"
     ]
    }
   ],
   "source": [
    "from melpoi.sql import SQLAnalyzer\n",
    "\n",
    "sa = SQLAnalyzer(\"./\")\n",
    "sa.plot_inline()"
   ]
  }
 ],
 "metadata": {
  "kernelspec": {
   "display_name": "Python 3.8.13 ('melpoi')",
   "language": "python",
   "name": "python3"
  },
  "language_info": {
   "codemirror_mode": {
    "name": "ipython",
    "version": 3
   },
   "file_extension": ".py",
   "mimetype": "text/x-python",
   "name": "python",
   "nbconvert_exporter": "python",
   "pygments_lexer": "ipython3",
   "version": "3.8.13"
  },
  "orig_nbformat": 4,
  "vscode": {
   "interpreter": {
    "hash": "6890fef89c65d55156d3d111df95c2b59945e43845e248644397dedf66eab138"
   }
  }
 },
 "nbformat": 4,
 "nbformat_minor": 2
}
